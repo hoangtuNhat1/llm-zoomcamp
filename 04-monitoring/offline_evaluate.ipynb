{
 "cells": [
  {
   "cell_type": "code",
   "execution_count": 1,
   "metadata": {},
   "outputs": [],
   "source": [
    "from pymilvus import connections, Collection, FieldSchema, CollectionSchema, DataType\n",
    "from pymilvus import utility\n",
    "connections.connect(\n",
    "    host=\"localhost\", \n",
    "    port=\"19530\"\n",
    ")"
   ]
  },
  {
   "cell_type": "code",
   "execution_count": 2,
   "metadata": {},
   "outputs": [
    {
     "name": "stderr",
     "output_type": "stream",
     "text": [
      "/home/nhutpham/anaconda3/envs/pbl6/lib/python3.10/site-packages/sentence_transformers/cross_encoder/CrossEncoder.py:13: TqdmExperimentalWarning: Using `tqdm.autonotebook.tqdm` in notebook mode. Use `tqdm.tqdm` instead to force console mode (e.g. in jupyter console)\n",
      "  from tqdm.autonotebook import tqdm, trange\n",
      "No sentence-transformers model found with name cointegrated/rubert-tiny. Creating a new one with mean pooling.\n"
     ]
    }
   ],
   "source": [
    "from sentence_transformers import SentenceTransformer\n",
    "model = SentenceTransformer(\"cointegrated/rubert-tiny\")"
   ]
  },
  {
   "cell_type": "code",
   "execution_count": 3,
   "metadata": {},
   "outputs": [],
   "source": [
    "output = model.encode(\"Phải như là cha mày \")"
   ]
  },
  {
   "cell_type": "code",
   "execution_count": 5,
   "metadata": {},
   "outputs": [
    {
     "data": {
      "text/plain": [
       "(312,)"
      ]
     },
     "execution_count": 5,
     "metadata": {},
     "output_type": "execute_result"
    }
   ],
   "source": [
    "output.shape"
   ]
  },
  {
   "cell_type": "code",
   "execution_count": 26,
   "metadata": {},
   "outputs": [],
   "source": [
    "import json \n",
    "\n",
    "with open('documents-with-ids.json', 'rt') as f_in:\n",
    "    documents = json.load(f_in)"
   ]
  },
  {
   "cell_type": "code",
   "execution_count": 7,
   "metadata": {},
   "outputs": [],
   "source": [
    "utility.drop_collection(\"course_info\")\n"
   ]
  },
  {
   "cell_type": "code",
   "execution_count": 8,
   "metadata": {},
   "outputs": [
    {
     "data": {
      "text/plain": [
       "(insert count: 948, delete count: 0, upsert count: 0, timestamp: 453340693104164867, success count: 948, err count: 0"
      ]
     },
     "execution_count": 8,
     "metadata": {},
     "output_type": "execute_result"
    }
   ],
   "source": [
    "\n",
    "\n",
    "fields = [\n",
    "    FieldSchema(name=\"id\", dtype=DataType.INT64, is_primary=True),\n",
    "    FieldSchema(name=\"text_id\", dtype=DataType.VARCHAR, max_length=535),\n",
    "    FieldSchema(name=\"section\", dtype=DataType.VARCHAR, max_length=535),\n",
    "    FieldSchema(name=\"text\", dtype=DataType.VARCHAR, max_length=50000),\n",
    "    FieldSchema(name=\"question\", dtype=DataType.VARCHAR, max_length=535),\n",
    "    FieldSchema(name=\"course\", dtype=DataType.VARCHAR, max_length=535),\n",
    "    FieldSchema(name=\"question_vector\", dtype=DataType.FLOAT_VECTOR, dim=312), \n",
    "    FieldSchema(name=\"text_vector\", dtype=DataType.FLOAT_VECTOR, dim=312), \n",
    "    FieldSchema(name=\"question_text_vector\", dtype=DataType.FLOAT_VECTOR, dim=312)]\n",
    "\n",
    "schema = CollectionSchema(fields=fields,enable_dynamic_field=True)\n",
    "\n",
    "collection = Collection(name=\"course_info\", schema=schema)\n",
    "\n",
    "index_params = {\n",
    "    \"metric_type\": \"IP\",\n",
    "    \"params\": {},\n",
    "}\n",
    "\n",
    "collection.create_index(\"question_vector\", index_params)\n",
    "collection.create_index(\"text_vector\", index_params)\n",
    "collection.create_index(\"question_text_vector\", index_params)\n",
    "\n",
    "\n",
    "entities = []\n",
    "for doc in documents: \n",
    "    try: \n",
    "        question = doc['question']\n",
    "        text = doc['text']\n",
    "        qt = question + ' ' + text\n",
    "        doc['question_vector'] = model.encode(question)\n",
    "        doc['text_vector'] = model.encode(text)\n",
    "        doc['question_text_vector'] = model.encode(qt)\n",
    "        entity = {\n",
    "                \"text_id\": doc['text_id'],\n",
    "                \"id\": doc['id'],\n",
    "                \"section\": doc['section'],\n",
    "                \"text\": text,\n",
    "                \"question\": question,\n",
    "                \"course\": doc['course'],\n",
    "                \"question_vector\": doc['question_vector'],\n",
    "                \"text_vector\": doc['text_vector'], \n",
    "                \"question_text_vector\": doc['question_text_vector'], \n",
    "            }\n",
    "        entities.append(entity)\n",
    "    except KeyError as e:\n",
    "        print(f\"Missing key {e} in document {doc['text_id']}\")\n",
    "        continue\n",
    "    \n",
    "collection.insert(entities)"
   ]
  },
  {
   "cell_type": "code",
   "execution_count": 9,
   "metadata": {},
   "outputs": [],
   "source": [
    "collection.release()"
   ]
  },
  {
   "cell_type": "code",
   "execution_count": 10,
   "metadata": {},
   "outputs": [],
   "source": [
    "collection.load()"
   ]
  },
  {
   "cell_type": "code",
   "execution_count": 3,
   "metadata": {},
   "outputs": [],
   "source": [
    "collection = Collection(name=\"course_info\")\n"
   ]
  },
  {
   "cell_type": "code",
   "execution_count": 4,
   "metadata": {},
   "outputs": [],
   "source": [
    "def search(field, vector, course):\n",
    "    # Perform the search operation\n",
    "    res = collection.search(\n",
    "        anns_field=f\"{field}\", \n",
    "        filter=f\"course == '{course}'\",\n",
    "        param={\"metric_type\": \"IP\", \"params\": {}},\n",
    "        data=[vector],\n",
    "        output_fields=[\"text_id\", \"text\", \"section\", \"question\", \"course\", \"id\"], \n",
    "        limit=5,  # Max. number of search results to return\n",
    "    )\n",
    "\n",
    "    # Initialize an empty list to hold the results\n",
    "    result_docs = []\n",
    "\n",
    "    # Loop through the hits\n",
    "    for hits in res:\n",
    "        for hit in hits:\n",
    "            # Append each hit as a dictionary containing the desired fields\n",
    "            hit_dict = {\n",
    "                \"text_id\": hit.entity.get(\"text_id\"),\n",
    "                \"text\": hit.entity.get(\"text\"),\n",
    "                \"section\": hit.entity.get(\"section\"),\n",
    "                \"question\": hit.entity.get(\"question\"),\n",
    "                \"course\": hit.entity.get(\"course\"),\n",
    "            }\n",
    "            result_docs.append(hit_dict)\n",
    "    \n",
    "    # Return the list of result documents\n",
    "    return result_docs\n"
   ]
  },
  {
   "cell_type": "code",
   "execution_count": 5,
   "metadata": {},
   "outputs": [],
   "source": [
    "def question_vector_search(q):\n",
    "    question = q['question']\n",
    "    course = q['course']\n",
    "\n",
    "    v_q = model.encode(question)\n",
    "\n",
    "    return search('question_vector', v_q, course)"
   ]
  },
  {
   "cell_type": "code",
   "execution_count": 6,
   "metadata": {},
   "outputs": [],
   "source": [
    "def question_text_vector_search(q):\n",
    "    question = q['question']\n",
    "    course = q['course']\n",
    "    \n",
    "    v_q = model.encode(question)\n",
    "\n",
    "    return search('question_text_vector', v_q, course)"
   ]
  },
  {
   "cell_type": "code",
   "execution_count": 19,
   "metadata": {},
   "outputs": [],
   "source": [
    "def build_prompt(query, search_result) : \n",
    "    prompt_template = \"\"\"\n",
    "        You're a course teaching assistant. Answer the QUESTION based on the the CONTEXT. \n",
    "        Use only the facts from the CONTEXT when answering the QUESTION. \n",
    "        QUESTION: {question}\n",
    "\n",
    "        CONTEXT: \n",
    "        {context}\n",
    "        \"\"\".strip()\n",
    "    context = \"\"\n",
    "\n",
    "    for doc in search_result: \n",
    "        context = context + f\"section: {doc['section']}\\nquestion: {doc['question']}\\nanswer: {doc['text']}\\n\\n\"\n",
    "    prompt = prompt_template.format(question=query, context=context).strip()\n",
    "    return prompt\n",
    "    "
   ]
  },
  {
   "cell_type": "code",
   "execution_count": 20,
   "metadata": {},
   "outputs": [],
   "source": [
    "from openai import OpenAI\n",
    "\n",
    "client = OpenAI(\n",
    "    base_url='http://localhost:11434/v1/',\n",
    "    api_key='ollama',)\n",
    "def llm(prompt):\n",
    "    response = client.chat.completions.create(\n",
    "        model='gemma2',\n",
    "        messages=[{\"role\": \"user\", \"content\": prompt}]\n",
    "    )\n",
    "    \n",
    "    return response.choices[0].message.content"
   ]
  },
  {
   "cell_type": "code",
   "execution_count": 9,
   "metadata": {},
   "outputs": [],
   "source": [
    "import pandas as pd"
   ]
  },
  {
   "cell_type": "code",
   "execution_count": 10,
   "metadata": {},
   "outputs": [],
   "source": [
    "df_ground_truth = pd.read_csv('ground-truth-data.csv')"
   ]
  },
  {
   "cell_type": "code",
   "execution_count": 11,
   "metadata": {},
   "outputs": [],
   "source": [
    "ground_truth = df_ground_truth.to_dict(orient='records')"
   ]
  },
  {
   "cell_type": "code",
   "execution_count": 12,
   "metadata": {},
   "outputs": [
    {
     "data": {
      "text/plain": [
       "{'question': 'If I join late, will I have access to all the course materials from the beginning?',\n",
       " 'course': 'data-engineering-zoomcamp',\n",
       " 'document': '7842b56a'}"
      ]
     },
     "execution_count": 12,
     "metadata": {},
     "output_type": "execute_result"
    }
   ],
   "source": [
    "ground_truth[10]"
   ]
  },
  {
   "cell_type": "code",
   "execution_count": 21,
   "metadata": {},
   "outputs": [],
   "source": [
    "def rag(query): \n",
    "    results = question_text_vector_search(query)\n",
    "    prompt = build_prompt(query, results)\n",
    "    answer = llm(prompt)\n",
    "    return answer"
   ]
  },
  {
   "cell_type": "code",
   "execution_count": 30,
   "metadata": {},
   "outputs": [
    {
     "data": {
      "text/plain": [
       "{'question': 'If I join late, will I have access to all the course materials from the beginning?',\n",
       " 'course': 'data-engineering-zoomcamp',\n",
       " 'document': '7842b56a'}"
      ]
     },
     "execution_count": 30,
     "metadata": {},
     "output_type": "execute_result"
    }
   ],
   "source": [
    "ground_truth[10]"
   ]
  },
  {
   "cell_type": "code",
   "execution_count": 22,
   "metadata": {},
   "outputs": [],
   "source": [
    "llm_answer = rag(ground_truth[10])"
   ]
  },
  {
   "cell_type": "code",
   "execution_count": 39,
   "metadata": {},
   "outputs": [],
   "source": [
    "orig_answer = [d for d in documents if d.get('text_id') == ground_truth[10][\"document\"]][0][\"text\"]"
   ]
  },
  {
   "cell_type": "code",
   "execution_count": 44,
   "metadata": {},
   "outputs": [
    {
     "data": {
      "text/plain": [
       "\"Yes, even if you don't register, you're still eligible to submit the homeworks.\\nBe aware, however, that there will be deadlines for turning in the final projects. So don't leave everything for the last minute.\""
      ]
     },
     "execution_count": 44,
     "metadata": {},
     "output_type": "execute_result"
    }
   ],
   "source": [
    "orig_answer"
   ]
  },
  {
   "cell_type": "code",
   "execution_count": 43,
   "metadata": {},
   "outputs": [
    {
     "data": {
      "text/plain": [
       "'Yes, according to the text \"we will keep all the materials after the course finishes, so you can follow the course at your own pace after it finishes\". \\n'"
      ]
     },
     "execution_count": 43,
     "metadata": {},
     "output_type": "execute_result"
    }
   ],
   "source": [
    "llm_answer"
   ]
  },
  {
   "cell_type": "code",
   "execution_count": 41,
   "metadata": {},
   "outputs": [],
   "source": [
    "v_llm = model.encode(llm_answer)\n",
    "v_orig = model.encode(orig_answer)\n"
   ]
  },
  {
   "cell_type": "code",
   "execution_count": 42,
   "metadata": {},
   "outputs": [
    {
     "name": "stdout",
     "output_type": "stream",
     "text": [
      "50.064358\n"
     ]
    }
   ],
   "source": [
    "print(v_llm.dot(v_orig))"
   ]
  }
 ],
 "metadata": {
  "kernelspec": {
   "display_name": "N2",
   "language": "python",
   "name": "python3"
  },
  "language_info": {
   "codemirror_mode": {
    "name": "ipython",
    "version": 3
   },
   "file_extension": ".py",
   "mimetype": "text/x-python",
   "name": "python",
   "nbconvert_exporter": "python",
   "pygments_lexer": "ipython3",
   "version": "3.10.14"
  }
 },
 "nbformat": 4,
 "nbformat_minor": 2
}
